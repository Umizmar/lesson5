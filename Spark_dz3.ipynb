{
  "nbformat": 4,
  "nbformat_minor": 0,
  "metadata": {
    "colab": {
      "provenance": [],
      "authorship_tag": "ABX9TyPcPqUw2XP+8zUAlzVzujKZ"
    },
    "kernelspec": {
      "name": "python3",
      "display_name": "Python 3"
    },
    "language_info": {
      "name": "python"
    }
  },
  "cells": [
    {
      "cell_type": "markdown",
      "source": [
        "#Spark Apache (семинары)\n",
        "###Урок 3. Инструменты работы и визуализации ч.2"
      ],
      "metadata": {
        "id": "9HBh996cMXej"
      }
    },
    {
      "cell_type": "markdown",
      "source": [
        "#####Условие: используйте источник rate, напишите код, который создаст дополнительный столбец, который будет выводить сумму только нечетных чисел"
      ],
      "metadata": {
        "id": "Y4oc4u_nXCq5"
      }
    },
    {
      "cell_type": "code",
      "execution_count": null,
      "metadata": {
        "id": "whbDlcUZGs9O"
      },
      "outputs": [],
      "source": [
        "!pip install pyspark"
      ]
    },
    {
      "cell_type": "code",
      "source": [
        "import pyspark\n",
        "from pyspark.sql import SparkSession\n",
        "from pyspark.sql.functions import col, sum"
      ],
      "metadata": {
        "id": "wHH8Za97Ir-E"
      },
      "execution_count": 60,
      "outputs": []
    },
    {
      "cell_type": "code",
      "source": [
        "# Создаем SparkSession\n",
        "spark = SparkSession.builder \\\n",
        ".appName(\"dz3\") \\\n",
        ".getOrCreate()\n",
        "# Создаем поток данных с использованием источника данных `rate`\n",
        "streaming_df = spark \\\n",
        ".readStream \\\n",
        ".format(\"rate\") \\\n",
        ".option(\"rowsPerSecond\", 1) \\\n",
        ".load()\n",
        "\n",
        "streaming_df = streaming_df.withColumn(\"odd\", col(\"value\")).filter(col(\"value\")%2 > 0)\n",
        "streaming_df = streaming_df.select(sum(streaming_df.odd))\n",
        "\n",
        "# Выводим поток данных\n",
        "query = streaming_df \\\n",
        ".writeStream \\\n",
        ".outputMode(\"complete\") \\\n",
        ".queryName(\"aggregates\") \\\n",
        ".format(\"memory\") \\\n",
        ".start()"
      ],
      "metadata": {
        "id": "HmZ6cVRCThgW"
      },
      "execution_count": 69,
      "outputs": []
    },
    {
      "cell_type": "code",
      "source": [
        "spark.sql(\"select * from aggregates\").show(truncate=False)"
      ],
      "metadata": {
        "colab": {
          "base_uri": "https://localhost:8080/"
        },
        "id": "EQg3fOLmudv-",
        "outputId": "347be2a6-ec59-4841-f25b-784fa7dac17a"
      },
      "execution_count": 74,
      "outputs": [
        {
          "output_type": "stream",
          "name": "stdout",
          "text": [
            "+--------+\n",
            "|sum(odd)|\n",
            "+--------+\n",
            "|25      |\n",
            "+--------+\n",
            "\n"
          ]
        }
      ]
    },
    {
      "cell_type": "code",
      "source": [
        "spark.stop()"
      ],
      "metadata": {
        "id": "sKZg0fp-2Qle"
      },
      "execution_count": 75,
      "outputs": []
    }
  ]
}