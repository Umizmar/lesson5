{
  "nbformat": 4,
  "nbformat_minor": 0,
  "metadata": {
    "colab": {
      "provenance": [],
      "authorship_tag": "ABX9TyMni+aVVxhUerrrtZAPOuxx"
    },
    "kernelspec": {
      "name": "python3",
      "display_name": "Python 3"
    },
    "language_info": {
      "name": "python"
    }
  },
  "cells": [
    {
      "cell_type": "markdown",
      "source": [
        "##Spark Apache (семинары)\n",
        "Урок 1. SQL & BigData"
      ],
      "metadata": {
        "id": "9HBh996cMXej"
      }
    },
    {
      "cell_type": "code",
      "execution_count": null,
      "metadata": {
        "id": "whbDlcUZGs9O"
      },
      "outputs": [],
      "source": [
        "!pip install pyspark"
      ]
    },
    {
      "cell_type": "code",
      "source": [
        "import pyspark\n",
        "from pyspark import SparkContext\n",
        "from pyspark.sql import SparkSession"
      ],
      "metadata": {
        "id": "wHH8Za97Ir-E"
      },
      "execution_count": 3,
      "outputs": []
    },
    {
      "cell_type": "code",
      "source": [
        "data = [3,4,1,2,3,4,5,1,2,3,3,4,5,6,7,8,4]\n",
        "t1 = []\n",
        "t2 = [data[0]]\n",
        "for x in data[1:]:\n",
        "    if x > t2[-1]:\n",
        "        t2.append(x)\n",
        "    else:\n",
        "        t1.append(t2)\n",
        "        t2 = [x]\n",
        "if t2:\n",
        "    t1.append(t2)\n",
        "\n",
        "print (f'Последовательности {t1}')"
      ],
      "metadata": {
        "colab": {
          "base_uri": "https://localhost:8080/"
        },
        "id": "fsuGcuYORHXT",
        "outputId": "31ef070e-0d66-4a38-9d7b-0c31f939c305"
      },
      "execution_count": 16,
      "outputs": [
        {
          "output_type": "stream",
          "name": "stdout",
          "text": [
            "Последовательности [[3, 4], [1, 2, 3, 4, 5], [1, 2, 3], [3, 4, 5, 6, 7, 8], [4]]\n"
          ]
        }
      ]
    },
    {
      "cell_type": "code",
      "source": [
        "sc = SparkContext(\"local\", \"dz1\")\n",
        "rdd = sc.parallelize(t1)\n",
        "seq = rdd.max(key=lambda x: len(x))\n",
        "print(f'Самая длинная поледовательность по возрастанию {seq}')"
      ],
      "metadata": {
        "id": "MdpO7I4yNFOo",
        "colab": {
          "base_uri": "https://localhost:8080/"
        },
        "outputId": "efcd4c45-5fda-4015-866f-c39fa9c01342"
      },
      "execution_count": 17,
      "outputs": [
        {
          "output_type": "stream",
          "name": "stdout",
          "text": [
            "Самая длинная поледовательность по возрастанию [3, 4, 5, 6, 7, 8]\n"
          ]
        }
      ]
    },
    {
      "cell_type": "code",
      "source": [
        "sc.stop()"
      ],
      "metadata": {
        "id": "_vjkfCt71aS0"
      },
      "execution_count": 18,
      "outputs": []
    }
  ]
}