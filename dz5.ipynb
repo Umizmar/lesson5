{
  "nbformat": 4,
  "nbformat_minor": 0,
  "metadata": {
    "colab": {
      "provenance": [],
      "authorship_tag": "ABX9TyOwnihIe7OiSrIcSIDrgzrK"
    },
    "kernelspec": {
      "name": "python3",
      "display_name": "Python 3"
    },
    "language_info": {
      "name": "python"
    }
  },
  "cells": [
    {
      "cell_type": "markdown",
      "source": [
        "#Spark Apache (семинары)\n",
        "\n",
        "###Урок 5. Spark on scala\n",
        "\n",
        "Условие: создайте csv файл с таким содержимым:\n",
        "\n",
        "title,author,genre,sales,year\n",
        "\n",
        "\"1984\", \"George Orwell\", \"Science Fiction\", 5000, 1949\n",
        "\n",
        "\"The Lord of the Rings\", \"J.R.R. Tolkien\", \"Fantasy\", 3000, 1954\n",
        "\n",
        "\"To Kill a Mockingbird\", \"Harper Lee\", \"Southern Gothic\", 4000, 1960\n",
        "\n",
        "\"The Catcher in the Rye\", \"J.D. Salinger\", \"Novel\", 2000, 1951\n",
        "\n",
        "\"The Great Gatsby\", \"F. Scott Fitzgerald\", \"Novel\", 4500, 1925\n",
        "\n",
        "Задание:\n",
        "\n",
        "— Используя Spark прочитайте данные из файла csv.\n",
        "— Фильтруйте данные, чтобы оставить только книги, продажи которых превышают 3000 экземпляров.\n",
        "— Сгруппируйте данные по жанру и вычислите общий объем продаж для каждого жанра.\n",
        "— Отсортируйте данные по общему объему продаж в порядке убывания.\n",
        "— Выведите результаты на экран."
      ],
      "metadata": {
        "id": "vUT0GD2TlHiM"
      }
    },
    {
      "cell_type": "code",
      "execution_count": 34,
      "metadata": {
        "id": "FwS2dKCck6Jl"
      },
      "outputs": [],
      "source": [
        "import csv\n",
        "\n",
        "with open('dz5.csv', 'w', newline='') as csvfile:\n",
        "    filewriter = csv.writer(csvfile, delimiter=',',\n",
        "                            quotechar='|', quoting=csv.QUOTE_MINIMAL)\n",
        "    filewriter.writerow(['title','author','genre','sales','year'])\n",
        "    filewriter.writerow([\"1984\", \"George Orwell\", \"Science Fiction\", 5000, 1949])\n",
        "    filewriter.writerow([\"The Lord of the Rings\", \"J.R.R. Tolkien\", \"Fantasy\", 3000, 1954])\n",
        "    filewriter.writerow([\"To Kill a Mockingbird\", \"Harper Lee\", \"Southern Gothic\", 4000, 1960])\n",
        "    filewriter.writerow([\"The Catcher in the Rye\", \"J.D. Salinger\", \"Novel\", 2000, 1951])\n",
        "    filewriter.writerow([\"The Great Gatsby\", \"F. Scott Fitzgerald\", \"Novel\", 4500, 1925])\n"
      ]
    },
    {
      "cell_type": "code",
      "source": [
        "!pip install pyspark"
      ],
      "metadata": {
        "id": "oxT9riAVmm9H"
      },
      "execution_count": null,
      "outputs": []
    },
    {
      "cell_type": "code",
      "source": [
        "import pyspark\n",
        "from pyspark.sql import SparkSession\n",
        "from pyspark.sql.functions import sum, col, desc"
      ],
      "metadata": {
        "id": "iuNkasRHm8dQ"
      },
      "execution_count": 81,
      "outputs": []
    },
    {
      "cell_type": "markdown",
      "source": [
        "- Используя Spark прочитайте данные из файла csv."
      ],
      "metadata": {
        "id": "i2m2nypZ3a0i"
      }
    },
    {
      "cell_type": "code",
      "source": [
        "spark = SparkSession.builder.getOrCreate()\n",
        "\n",
        "df = spark.read.option(\"delimiter\", \",\").option(\"header\", True).csv('dz5.csv')\n",
        "df.show()"
      ],
      "metadata": {
        "colab": {
          "base_uri": "https://localhost:8080/"
        },
        "id": "9gLI_TKhlA4B",
        "outputId": "6547916d-cdd2-454a-daae-c9389acb7325"
      },
      "execution_count": 60,
      "outputs": [
        {
          "output_type": "stream",
          "name": "stdout",
          "text": [
            "+--------------------+-------------------+---------------+-----+----+\n",
            "|               title|             author|          genre|sales|year|\n",
            "+--------------------+-------------------+---------------+-----+----+\n",
            "|                1984|      George Orwell|Science Fiction| 5000|1949|\n",
            "|The Lord of the R...|     J.R.R. Tolkien|        Fantasy| 3000|1954|\n",
            "|To Kill a Mocking...|         Harper Lee|Southern Gothic| 4000|1960|\n",
            "|The Catcher in th...|      J.D. Salinger|          Novel| 2000|1951|\n",
            "|    The Great Gatsby|F. Scott Fitzgerald|          Novel| 4500|1925|\n",
            "+--------------------+-------------------+---------------+-----+----+\n",
            "\n"
          ]
        }
      ]
    },
    {
      "cell_type": "markdown",
      "source": [
        "- Фильтруйте данные, чтобы оставить только книги, продажи которых превышают 3000 экземпляров."
      ],
      "metadata": {
        "id": "R6Zt8gSr3fWq"
      }
    },
    {
      "cell_type": "code",
      "source": [
        "df.filter(df.sales > 3000).show()"
      ],
      "metadata": {
        "colab": {
          "base_uri": "https://localhost:8080/"
        },
        "id": "eZxjhK4H2dqP",
        "outputId": "109ec85b-c42c-4b0f-9990-fd7c94e7c709"
      },
      "execution_count": 49,
      "outputs": [
        {
          "output_type": "stream",
          "name": "stdout",
          "text": [
            "+--------------------+-------------------+---------------+-----+----+\n",
            "|               title|             author|          genre|sales|year|\n",
            "+--------------------+-------------------+---------------+-----+----+\n",
            "|                1984|      George Orwell|Science Fiction| 5000|1949|\n",
            "|To Kill a Mocking...|         Harper Lee|Southern Gothic| 4000|1960|\n",
            "|    The Great Gatsby|F. Scott Fitzgerald|          Novel| 4500|1925|\n",
            "+--------------------+-------------------+---------------+-----+----+\n",
            "\n"
          ]
        }
      ]
    },
    {
      "cell_type": "markdown",
      "source": [
        "- Сгруппируйте данные по жанру и вычислите общий объем продаж для каждого жанра.\n",
        "- Отсортируйте данные по общему объему продаж в порядке убывания."
      ],
      "metadata": {
        "id": "ovzWzj9_3okW"
      }
    },
    {
      "cell_type": "code",
      "source": [
        "df.groupBy('genre').agg(sum('sales').alias('sales_sum')).sort(col('sales_sum').desc()).show()"
      ],
      "metadata": {
        "colab": {
          "base_uri": "https://localhost:8080/"
        },
        "id": "n5_I-pEy31Kl",
        "outputId": "5b9d37a7-4d09-457c-d5d3-dcff4232dbb5"
      },
      "execution_count": 82,
      "outputs": [
        {
          "output_type": "stream",
          "name": "stdout",
          "text": [
            "+---------------+---------+\n",
            "|          genre|sales_sum|\n",
            "+---------------+---------+\n",
            "|          Novel|   6500.0|\n",
            "|Science Fiction|   5000.0|\n",
            "|Southern Gothic|   4000.0|\n",
            "|        Fantasy|   3000.0|\n",
            "+---------------+---------+\n",
            "\n"
          ]
        }
      ]
    },
    {
      "cell_type": "code",
      "source": [
        "spark.stop()"
      ],
      "metadata": {
        "id": "TweGHUjlsq3f"
      },
      "execution_count": 83,
      "outputs": []
    }
  ]
}